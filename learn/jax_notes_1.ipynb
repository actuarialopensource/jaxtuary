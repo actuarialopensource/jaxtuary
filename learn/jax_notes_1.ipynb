{
  "nbformat": 4,
  "nbformat_minor": 0,
  "metadata": {
    "colab": {
      "name": "jax_notes_1.ipynb",
      "provenance": [],
      "collapsed_sections": []
    },
    "kernelspec": {
      "name": "python3",
      "display_name": "Python 3"
    },
    "language_info": {
      "name": "python"
    }
  },
  "cells": [
    {
      "cell_type": "code",
      "source": [
        "!pip install pymort equinox jaxtyping"
      ],
      "metadata": {
        "id": "uw8Ma2eHorXt",
        "colab": {
          "base_uri": "https://localhost:8080/"
        },
        "outputId": "277c8e64-08ce-4239-b735-faab345cee65"
      },
      "execution_count": 1,
      "outputs": [
        {
          "output_type": "stream",
          "name": "stdout",
          "text": [
            "Looking in indexes: https://pypi.org/simple, https://us-python.pkg.dev/colab-wheels/public/simple/\n",
            "Collecting pymort\n",
            "  Downloading pymort-0.6.0-py3-none-any.whl (12.5 MB)\n",
            "\u001b[K     |████████████████████████████████| 12.5 MB 315 kB/s \n",
            "\u001b[?25hCollecting equinox\n",
            "  Downloading equinox-0.6.0-py3-none-any.whl (66 kB)\n",
            "\u001b[K     |████████████████████████████████| 66 kB 1.7 MB/s \n",
            "\u001b[?25hCollecting jaxtyping\n",
            "  Downloading jaxtyping-0.1.0-py3-none-any.whl (16 kB)\n",
            "Requirement already satisfied: pandas<2.0.0,>=1.3.4 in /usr/local/lib/python3.7/dist-packages (from pymort) (1.3.5)\n",
            "Requirement already satisfied: pytz>=2017.3 in /usr/local/lib/python3.7/dist-packages (from pandas<2.0.0,>=1.3.4->pymort) (2022.2.1)\n",
            "Requirement already satisfied: python-dateutil>=2.7.3 in /usr/local/lib/python3.7/dist-packages (from pandas<2.0.0,>=1.3.4->pymort) (2.8.2)\n",
            "Requirement already satisfied: numpy>=1.17.3 in /usr/local/lib/python3.7/dist-packages (from pandas<2.0.0,>=1.3.4->pymort) (1.21.6)\n",
            "Requirement already satisfied: six>=1.5 in /usr/local/lib/python3.7/dist-packages (from python-dateutil>=2.7.3->pandas<2.0.0,>=1.3.4->pymort) (1.15.0)\n",
            "Requirement already satisfied: jax>=0.3.4 in /usr/local/lib/python3.7/dist-packages (from equinox) (0.3.14)\n",
            "Requirement already satisfied: absl-py in /usr/local/lib/python3.7/dist-packages (from jax>=0.3.4->equinox) (1.2.0)\n",
            "Requirement already satisfied: typing-extensions in /usr/local/lib/python3.7/dist-packages (from jax>=0.3.4->equinox) (4.1.1)\n",
            "Requirement already satisfied: etils[epath] in /usr/local/lib/python3.7/dist-packages (from jax>=0.3.4->equinox) (0.7.1)\n",
            "Requirement already satisfied: scipy>=1.5 in /usr/local/lib/python3.7/dist-packages (from jax>=0.3.4->equinox) (1.7.3)\n",
            "Requirement already satisfied: opt-einsum in /usr/local/lib/python3.7/dist-packages (from jax>=0.3.4->equinox) (3.3.0)\n",
            "Collecting typeguard>=2.13.3\n",
            "  Downloading typeguard-2.13.3-py3-none-any.whl (17 kB)\n",
            "Collecting typing-extensions\n",
            "  Downloading typing_extensions-4.3.0-py3-none-any.whl (25 kB)\n",
            "Requirement already satisfied: importlib_resources in /usr/local/lib/python3.7/dist-packages (from etils[epath]->jax>=0.3.4->equinox) (5.9.0)\n",
            "Requirement already satisfied: zipp in /usr/local/lib/python3.7/dist-packages (from etils[epath]->jax>=0.3.4->equinox) (3.8.1)\n",
            "Installing collected packages: typing-extensions, typeguard, pymort, jaxtyping, equinox\n",
            "  Attempting uninstall: typing-extensions\n",
            "    Found existing installation: typing-extensions 4.1.1\n",
            "    Uninstalling typing-extensions-4.1.1:\n",
            "      Successfully uninstalled typing-extensions-4.1.1\n",
            "  Attempting uninstall: typeguard\n",
            "    Found existing installation: typeguard 2.7.1\n",
            "    Uninstalling typeguard-2.7.1:\n",
            "      Successfully uninstalled typeguard-2.7.1\n",
            "\u001b[31mERROR: pip's dependency resolver does not currently take into account all the packages that are installed. This behaviour is the source of the following dependency conflicts.\n",
            "thinc 8.1.0 requires typing-extensions<4.2.0,>=3.7.4.1; python_version < \"3.8\", but you have typing-extensions 4.3.0 which is incompatible.\n",
            "spacy 3.4.1 requires typing-extensions<4.2.0,>=3.7.4; python_version < \"3.8\", but you have typing-extensions 4.3.0 which is incompatible.\u001b[0m\n",
            "Successfully installed equinox-0.6.0 jaxtyping-0.1.0 pymort-0.6.0 typeguard-2.13.3 typing-extensions-4.3.0\n"
          ]
        }
      ]
    },
    {
      "cell_type": "markdown",
      "source": [
        "# Assumption tables as Python classes\n",
        "\n",
        "Before discussing parallel computing, we have to set up our modelpoints and assumption tables.\n",
        "\n",
        "* Assumption tables can be represented as classes, I use Equinox for working with JAX. \n",
        "  * There is [a paper](https://arxiv.org/pdf/2111.00254.pdf) that explains the programming model.\n",
        "  * I use Equinox as a syntactic sugar for partial functions, where the fixed parameters of the partial function are accessible in an object oriented manner.\n",
        "* Rate tables are stored as attributes. \n",
        "* Rate lookups are instance methods.\n",
        "\n"
      ],
      "metadata": {
        "id": "4NTsOZ-UwySL"
      }
    },
    {
      "cell_type": "code",
      "execution_count": 2,
      "metadata": {
        "id": "kddqnxKSoo6v",
        "colab": {
          "base_uri": "https://localhost:8080/"
        },
        "outputId": "69df6a9e-36ab-40de-8592-db3e9360614d"
      },
      "outputs": [
        {
          "output_type": "stream",
          "name": "stderr",
          "text": [
            "WARNING:absl:No GPU/TPU found, falling back to CPU. (Set TF_CPP_MIN_LOG_LEVEL=0 and rerun for more info.)\n"
          ]
        }
      ],
      "source": [
        "import jax.numpy as jnp\n",
        "import jax\n",
        "from pymort import getIdGroup, MortXML\n",
        "import equinox as eqx\n",
        "from jaxtyping import f, i # declaring what the axes are is nice\n",
        "\n",
        "class GetQ(eqx.Module):\n",
        "  select: f[\"table_index issue_age duration\"] \n",
        "  ultimate: f[\"table_index attained_age\"]\n",
        "\n",
        "  def __init__(self, collection_id: int):\n",
        "    ids = getIdGroup(collection_id).ids\n",
        "    self.select = jnp.array([MortXML(id).Tables[0].Values.unstack().values for id in ids])\n",
        "    self.ultimate = jnp.array([MortXML(id).Tables[1].Values.unstack().values for id in ids])\n",
        "\n",
        "  def __call__(self, table_index: f[\"policies\"], issue_age: f[\"policies\"], duration_projected: f[\"timesteps policies\"]) -> f[\"timesteps policies\"]:\n",
        "    return jnp.where(\n",
        "        duration_projected < self.select.shape[-1],\n",
        "        self.select[table_index, issue_age - 18, duration_projected], # offset because jax arrays are 0-indexed\n",
        "        self.ultimate[table_index, (issue_age - 18) + duration_projected],\n",
        "    )\n",
        "\n",
        "get_q = GetQ(3299)"
      ]
    },
    {
      "cell_type": "code",
      "source": [
        "getIdGroup(3299)"
      ],
      "metadata": {
        "colab": {
          "base_uri": "https://localhost:8080/"
        },
        "id": "wLWkoCIpC4Gb",
        "outputId": "23c8dc36-79d4-49ff-da8d-d5b4ddbb033f"
      },
      "execution_count": 9,
      "outputs": [
        {
          "output_type": "execute_result",
          "data": {
            "text/plain": [
              "IdGroup(study='2017_CSO', grouping='loaded preferred_structure gender_distinct ANB', ids=(3299, 3300, 3301, 3302, 3303, 3304, 3305, 3306, 3307, 3308), genders=('male', 'male', 'male', 'female', 'female', 'female', 'male', 'male', 'female', 'female'), risks=('nonsmoker super_preferred', 'nonsmoker preferred', 'nonsmoker residual', 'nonsmoker super_preferred', 'nonsmoker preferred', 'nonsmoker residual', 'smoker preferred', 'smoker residual', 'smoker preferred', 'smoker residual'))"
            ]
          },
          "metadata": {},
          "execution_count": 9
        }
      ]
    },
    {
      "cell_type": "markdown",
      "source": [
        "Define another module to represent our modelpoints.\n",
        "\n"
      ],
      "metadata": {
        "id": "k7fsWpIXpw2q"
      }
    },
    {
      "cell_type": "code",
      "source": [
        "class ModelPoints(eqx.Module):\n",
        "  mortality_table_index: i[\"policies\"]\n",
        "  issue_age: i[\"policies\"]\n",
        "  duration: i[\"policies\"]\n",
        "  face: i[\"policies\"]\n",
        "\n",
        "  def projected_q(self, timesteps: int) -> f[\"timesteps policies\"]:\n",
        "    \"\"\"\n",
        "    Get the mortality rates q for the policies across time.\n",
        "    \"\"\"\n",
        "    time_axis = jnp.arange(timesteps)[:, jnp.newaxis]\n",
        "    duration_projected = time_axis + self.duration\n",
        "    return get_q(self.mortality_table_index, self.issue_age, duration_projected)"
      ],
      "metadata": {
        "id": "YzlBz7W8xgMV"
      },
      "execution_count": null,
      "outputs": []
    },
    {
      "cell_type": "markdown",
      "source": [
        "Make up some data and construct our classes."
      ],
      "metadata": {
        "id": "exCNhrBpD12M"
      }
    },
    {
      "cell_type": "code",
      "source": [
        "# every combination of mortality table index from [0,10), duration from [0, 25), and issue_age from [18, 51)\n",
        "# 10*25*(51-18) = 8250 modelpoints in total\n",
        "mortality_table_index = jnp.arange(10)\n",
        "duration = jnp.arange(1)\n",
        "issue_age = jnp.arange(18, 51)\n",
        "# like a cartesian product, generate all combinations of each class/duration/issue_age\n",
        "mortality_table_index, duration, issue_age = [x.flatten() for x in jnp.meshgrid(mortality_table_index, duration, issue_age)]\n",
        "# all policies have same face value\n",
        "face = jnp.ones_like(issue_age) * 1_000_000\n",
        "mp = ModelPoints(mortality_table_index, issue_age, duration, face)"
      ],
      "metadata": {
        "id": "C9cmtl_WmABo"
      },
      "execution_count": null,
      "outputs": []
    },
    {
      "cell_type": "markdown",
      "source": [
        "Now the discussion of parallel computing."
      ],
      "metadata": {
        "id": "TQ6HnqMvTEMM"
      }
    },
    {
      "cell_type": "markdown",
      "source": [
        "# Parralel Prefix Sum\n",
        "\n",
        "## Prefix sum definition and relevance to actuarial calculations\n",
        "\n",
        "For a [binary associative operator](https://en.wikipedia.org/wiki/Associative_property) $\\oplus$ and a sequence of numbers $x_0,x_1,x_2,...$ the **prefix sum** is a sequence of numbers $y_0, y_1, y_2, ...$ where\n",
        "\n",
        "$$\n",
        "\\begin{align*}\n",
        "y_0 &= x_0 \\\\\n",
        "y_1 &= x_0 \\oplus x_1 \\\\\n",
        "y_2 &= x_0 \\oplus x_1 \\oplus x_2 \\\\\n",
        "...\n",
        "\\end{align*}\n",
        "$$\n",
        "\n",
        "Let $p_x$ be the probability that a person age $x$ survives to age $x+1$ and $_np_x$ be the probability that they survive to age $x+n$. An example of a prefix sum in actuarial science is the following.\n",
        "\n",
        "$$\n",
        "\\begin{align*}\n",
        "p_x &= p_x \\\\\n",
        "_2p_x &= p_x \\cdot p_{x+1} \\\\\n",
        "_3p_x &= p_x \\cdot p_{x+1} \\cdot p_{x+2} \\\\\n",
        "...\n",
        "\\end{align*}\n",
        "$$\n",
        "\n",
        "\n",
        "## Parallelism on the GPU\n",
        "\n",
        "[Prefix sums can be computed in parallel](https://citeseerx.ist.psu.edu/viewdoc/download?doi=10.1.1.128.6230&rep=rep1&type=pdf). JAX has a special method for this, [`jax.lax.associative_scan`](https://jax.readthedocs.io/en/latest/_autosummary/jax.lax.associative_scan.html#jax.lax.associative_scan). \n",
        "\n",
        "We have seen that survival probabilities are calculated with a cumulative product. [`jax.numpy.cumprod`](https://jax.readthedocs.io/en/latest/_autosummary/jax.numpy.cumprod.html) is the typical way to take the cumulative product and [uses the associative scan in its implementation](https://github.com/google/jax/blob/main/jax/_src/lax/control_flow/loops.py#L1950).\n"
      ],
      "metadata": {
        "id": "lhs_vc4gq29_"
      }
    },
    {
      "cell_type": "code",
      "source": [
        "timesteps = 20\n",
        "q = mp.projected_q(timesteps)\n",
        "# jnp.cumprod uses parallel prefix sum\n",
        "npx = jnp.concatenate([jnp.ones((1, q.shape[1])), jnp.cumprod(1-q, axis=0)[:-1]])"
      ],
      "metadata": {
        "id": "tV9KadwtPtuP"
      },
      "execution_count": null,
      "outputs": []
    },
    {
      "cell_type": "markdown",
      "source": [
        "We can calculate the reserve at each point in time using a cumulative sum in reverse, another prefix sum operation that can be parallelized on the time dimension. Reserves for this term product can be entirely parallelized along the time dimension, with no strong data dependencies from one time step to the next."
      ],
      "metadata": {
        "id": "FPwdnjyMSsZM"
      }
    },
    {
      "cell_type": "code",
      "source": [
        "expected_claims = npx * q * mp.face\n",
        "v = (1/1.02)\n",
        "discounts_boy: f[\"timesteps 1\"] = v ** jnp.arange(timesteps)[:, jnp.newaxis] # boy is \"beginning of year\"\n",
        "discounts_eoy: f[\"timesteps 1\"] = v * discounts_boy # eoy is \"end of year\"\n",
        "annual_premium =  jnp.sum(expected_claims * discounts_eoy, 0)/jnp.sum(npx * discounts_boy, 0)\n",
        "expected_premiums = annual_premium * npx\n",
        "\n",
        "def reserves(expected_claims: f[\"timesteps policies\"], expected_premiums: f[\"timesteps policies\"], v: float):\n",
        "  discounts_boy: f[\"timesteps 1\"] = v ** jnp.arange(timesteps)[:, jnp.newaxis]\n",
        "  discounts_eoy: f[\"timesteps 1\"] = v * discounts_boy\n",
        "  discounted_expected_claims = expected_claims * discounts_eoy\n",
        "  discounted_expected_premiums = expected_premiums * discounts_boy\n",
        "  net_cashflows = discounted_expected_claims - discounted_expected_premiums\n",
        "  reserves = jax.lax.cumsum(net_cashflows, reverse=True)\n",
        "  return jnp.sum(reserves, axis=1)\n",
        "\n",
        "# t=0 reserve is -.04 due to accumulation of floating point errors\n",
        "print(reserves(expected_claims, expected_premiums, v))"
      ],
      "metadata": {
        "id": "f5_z9plcRrKc",
        "colab": {
          "base_uri": "https://localhost:8080/"
        },
        "outputId": "b2fff848-0fa9-48f5-a224-c72fb8e49661"
      },
      "execution_count": null,
      "outputs": [
        {
          "output_type": "stream",
          "name": "stdout",
          "text": [
            "[-4.2449951e-02  5.2286897e+05  9.9272012e+05  1.4035186e+06\n",
            "  1.7658292e+06  2.0858644e+06  2.3629015e+06  2.5952758e+06\n",
            "  2.7802620e+06  2.9128385e+06  2.9866622e+06  3.0035835e+06\n",
            "  2.9611145e+06  2.8515672e+06  2.6744210e+06  2.4279880e+06\n",
            "  2.1049722e+06  1.7013820e+06  1.2181765e+06  6.5228344e+05]\n"
          ]
        }
      ]
    },
    {
      "cell_type": "markdown",
      "source": [
        "## When parallelism is complicated\n",
        "\n",
        "[This paper](https://citeseerx.ist.psu.edu/viewdoc/download?doi=10.1.1.84.2724&rep=rep1&type=pdf) presents the FORA algorithm which solves the recurrence relation $Y_k = a_kY_{k-1} + X_k$, equation 1.23 from [Computation and Modelling in Insurance and Finance](https://www.amazon.com/Computation-Modelling-Insurance-International-Actuarial/dp/0521830486). This algorithm converts the recurrence into a prefix sum operation. In JAX discussions on GitHub [someone has implemented a linear recurrence](https://github.com/google/jax/discussions/9856) and reports performance problems which I haven't yet made heads or tails of. [This stackoverflow answer](https://stackoverflow.com/questions/70085324/cuda-force-instruction-execution-order) gives an implementation in C++. Also [this reference which I already gave](https://citeseerx.ist.psu.edu/viewdoc/download?doi=10.1.1.128.6230&rep=rep1&type=pdf) covers the FORA algorithm.\n",
        "\n",
        "In idiomatic JAX, this recurrence is solved with [`jax.lax.scan`](https://jax.readthedocs.io/en/latest/_autosummary/jax.lax.scan.html) which is not done in parallel and is reportedly [\"slower than expected\"](https://github.com/google/jax/issues/2491) on the GPU with some optimism from the JAX team surrounding future improvements on GPU. This discussion of \"slow\" vs \"fast\" is meaningless until we have reproducible benchmarks that are representative of industry workloads, something I'd like to work on.\n",
        "\n",
        "Theory aside, here's an example to distinguish when we can vs. can't avoid `jax.lax.scan` (it's faster to avoid it)."
      ],
      "metadata": {
        "id": "FxOTdOFPk4GI"
      }
    },
    {
      "cell_type": "markdown",
      "source": [
        "## Bank accounts and UL\n",
        "\n",
        "We put an amount $p_t$ into a bank account every year for 100 years and accumulate it with interest. Let the account value at time $t$ be $AV_t$. The recurrence is then $AV_t = AV_{t-1} \\cdot (1+i_t) + p_t$\n",
        "\n",
        "Prefix sums can easily calculate the **present value** of the account value at points in time.\n",
        "\n"
      ],
      "metadata": {
        "id": "5ZwedxaSNcYb"
      }
    },
    {
      "cell_type": "code",
      "source": [
        "key = jax.random.PRNGKey(0)\n",
        "timesteps = 10\n",
        "payments = jax.random.randint(key, (timesteps, ), 1, 10)\n",
        "v = 1/(1.02)\n",
        "discounts = v ** jnp.arange(timesteps)\n",
        "discounted_cashflows = payments * discounts\n",
        "# get **present value** of account values using prefix sum\n",
        "present_value_of_future_account_values = jnp.cumsum(discounted_cashflows)\n",
        "present_value_of_future_account_values"
      ],
      "metadata": {
        "colab": {
          "base_uri": "https://localhost:8080/"
        },
        "id": "htXwV_QAMHI-",
        "outputId": "70ba0b27-8b2a-4413-eddf-d10c0d3aa127"
      },
      "execution_count": null,
      "outputs": [
        {
          "output_type": "execute_result",
          "data": {
            "text/plain": [
              "DeviceArray([ 9.      , 10.960784, 19.611301, 21.495947, 24.267483,\n",
              "             25.173214, 28.7251  , 33.0779  , 34.78488 , 38.1319  ],            dtype=float32, weak_type=True)"
            ]
          },
          "metadata": {},
          "execution_count": 17
        }
      ]
    },
    {
      "cell_type": "markdown",
      "source": [
        "It feels like the idiomatic thing for the **current value** of account values at points in time is the non-parallel `jax.lax.scan` - https://ericmjl.github.io/dl-workshop/02-jax-idioms/02-loopy-carry.html. For a constant interest rate - "
      ],
      "metadata": {
        "id": "PYDe_H503-Rz"
      }
    },
    {
      "cell_type": "code",
      "source": [
        "# Notice that it would be a pain to incorporate a non-constant interest rate into the scan operation.\n",
        "def accumulate_account_value(res, payment):\n",
        "  new = res*(v**-1) + payment\n",
        "  return new, new  # (\"carryover\", \"accumulated\")\n",
        "\n",
        "result_init = 0\n",
        "final, result = jax.lax.scan(accumulate_account_value, result_init, payments)\n",
        "result"
      ],
      "metadata": {
        "colab": {
          "base_uri": "https://localhost:8080/"
        },
        "id": "qMNmldge4EIT",
        "outputId": "81a6463a-e872-454b-bdd2-d638d1f13307"
      },
      "execution_count": null,
      "outputs": [
        {
          "output_type": "execute_result",
          "data": {
            "text/plain": [
              "DeviceArray([ 9.      , 11.18    , 20.4036  , 22.811672, 26.267904,\n",
              "             27.793262, 32.34913 , 37.99611 , 40.75603 , 45.57115 ],            dtype=float32)"
            ]
          },
          "metadata": {},
          "execution_count": 18
        }
      ]
    },
    {
      "cell_type": "markdown",
      "source": [
        "If interest rates are not constant, we pass a Pytree in as the `xs` argument of scan. Equinox modules are registered as Pytrees, so this should work."
      ],
      "metadata": {
        "id": "V2c7aDO5Egvp"
      }
    },
    {
      "cell_type": "code",
      "source": [
        "key, subkey = jax.random.split(key)\n",
        "rates = 1 + jax.random.randint(subkey, (timesteps, ), 1, 10) / 100\n",
        "\n",
        "class RatesPayments(eqx.Module):\n",
        "  rates: f[\"timesteps\"]\n",
        "  payments: f[\"timesteps\"]\n",
        "\n",
        "rp = RatesPayments(rates, payments)\n",
        "def accumulate_account_value2(res, rp: RatesPayments):\n",
        "  new = res*rp.rates + rp.payments\n",
        "  return new, new\n",
        "\n",
        "result_init = 0\n",
        "final, result = jax.lax.scan(accumulate_account_value2, result_init, rp)\n",
        "# yay it works\n",
        "result "
      ],
      "metadata": {
        "colab": {
          "base_uri": "https://localhost:8080/"
        },
        "id": "rCxlGYrrE8Tn",
        "outputId": "ba119a9c-bf14-49a5-955d-818dfe34e821"
      },
      "execution_count": null,
      "outputs": [
        {
          "output_type": "execute_result",
          "data": {
            "text/plain": [
              "DeviceArray([ 9.      , 11.539999, 20.6554  , 23.481615, 28.360146,\n",
              "             30.77815 , 35.701492, 42.486565, 45.336296, 50.696384],            dtype=float32)"
            ]
          },
          "metadata": {},
          "execution_count": 21
        }
      ]
    },
    {
      "cell_type": "markdown",
      "source": [
        "Some product mechanics depend on the current account value, so it is important to be able to scan. Even though the accumulation of an account value is a first order linear recurrence, idiomatic JAX uses scan which is more general but does not execute in parallel over the time dimension. The GPU may be fully utilized if enough accounts are being projected in parallel... here is the associative scan implemented for a first order linear recurrence."
      ],
      "metadata": {
        "id": "gyB1NjKe8UH8"
      }
    },
    {
      "cell_type": "code",
      "source": [
        "rp_array = jnp.stack([rp.rates, rp.payments], axis=1)\n",
        "rp_array = jnp.insert(rp_array, 0, jnp.array([0, 0]), axis=0)"
      ],
      "metadata": {
        "colab": {
          "base_uri": "https://localhost:8080/"
        },
        "id": "z7jyJpcmsLSh",
        "outputId": "5f6e3f48-23f9-4117-a08d-a0db1f921fd9"
      },
      "execution_count": null,
      "outputs": [
        {
          "output_type": "execute_result",
          "data": {
            "text/plain": [
              "DeviceArray([[0.  , 0.  ],\n",
              "             [1.09, 9.  ],\n",
              "             [1.06, 2.  ],\n",
              "             [1.01, 9.  ],\n",
              "             [1.04, 2.  ],\n",
              "             [1.08, 3.  ],\n",
              "             [1.05, 1.  ],\n",
              "             [1.03, 4.  ],\n",
              "             [1.05, 5.  ],\n",
              "             [1.02, 2.  ],\n",
              "             [1.03, 4.  ]], dtype=float32)"
            ]
          },
          "metadata": {},
          "execution_count": 31
        }
      ]
    },
    {
      "cell_type": "code",
      "source": [
        "import jax\n",
        "import jax.numpy as jnp\n",
        "\n",
        "key = jax.random.PRNGKey(0)\n",
        "timesteps = 10\n",
        "payments = jax.random.randint(key, (timesteps, ), 1, 10)\n",
        "key, subkey = jax.random.split(key)\n",
        "rates = 1 + jax.random.randint(subkey, (timesteps, ), 1, 10) / 100\n",
        "rp_array = jnp.stack([rates, payments], axis=1)\n",
        "rp_array = jnp.insert(rp_array, 0, jnp.array([0, 0]), axis=0)\n",
        "\n",
        "def scan_operator(ci, cj):\n",
        "    \"\"\"Operator to be used for scan and associative scan which solves a linear \n",
        "    recurrence with a diagonal transition matrix\"\"\"\n",
        "    def A_op(Ai, Aj):\n",
        "            return Ai * Aj\n",
        "\n",
        "    def b_op(Aj, bi, bj):\n",
        "        return Aj * bi + bj\n",
        "\n",
        "    return jnp.stack([A_op(ci[0], cj[0]), b_op(cj[0], ci[1], cj[1])])\n",
        "\n",
        "parallel_scan_operator = jax.vmap(scan_operator)\n",
        "\n",
        "jax.lax.associative_scan(parallel_scan_operator, rp_array, axis=0)"
      ],
      "metadata": {
        "colab": {
          "base_uri": "https://localhost:8080/"
        },
        "id": "ZUexX4_3pHuL",
        "outputId": "544a706f-d8f9-4802-c5b2-656ca270be13"
      },
      "execution_count": null,
      "outputs": [
        {
          "output_type": "execute_result",
          "data": {
            "text/plain": [
              "DeviceArray([[ 0.      ,  0.      ],\n",
              "             [ 0.      ,  9.      ],\n",
              "             [ 0.      , 11.09    ],\n",
              "             [ 0.      , 20.6445  ],\n",
              "             [ 0.      , 23.05739 ],\n",
              "             [ 0.      , 27.67141 ],\n",
              "             [ 0.      , 30.05498 ],\n",
              "             [ 0.      , 36.15883 ],\n",
              "             [ 0.      , 41.520416],\n",
              "             [ 0.      , 45.596436],\n",
              "             [ 0.      , 51.42029 ]], dtype=float32)"
            ]
          },
          "metadata": {},
          "execution_count": 43
        }
      ]
    },
    {
      "cell_type": "markdown",
      "source": [
        "## Things that are worth trying\n",
        "\n",
        "* Meaningful performance testing benchmarks\n",
        "* Hardware accelerated first order linear recurrences that have a good developer experience (iff the speedup seems significant)."
      ],
      "metadata": {
        "id": "1oVFa3zS9WLq"
      }
    }
  ]
}