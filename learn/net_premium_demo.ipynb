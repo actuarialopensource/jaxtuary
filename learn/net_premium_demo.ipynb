{
 "cells": [
  {
   "cell_type": "code",
   "execution_count": 7,
   "metadata": {},
   "outputs": [],
   "source": [
    "# without the os and sys, error that module jaxtuary is not found\n",
    "import os # https://stackoverflow.com/questions/34478398/import-local-function-from-a-module-housed-in-another-directory-with-relative-im\n",
    "import sys\n",
    "module_path = os.path.abspath(os.path.join('..'))\n",
    "if module_path not in sys.path:\n",
    "    sys.path.append(module_path)\n",
    "# sorry for jank\n",
    "import jax.numpy as jnp\n",
    "from pymort import getIdGroup, MortXML\n",
    "from jaxtuary import get_q_from_select_ultimate, get_npx_from_q, project_duration"
   ]
  },
  {
   "cell_type": "markdown",
   "metadata": {},
   "source": [
    "For this we will be using the study `2017_CSO loaded preferred_structure gender_distinct ANB`. We can get the PyMort object that represents this collection by referencing any of the tables belonging to the collection. "
   ]
  },
  {
   "cell_type": "code",
   "execution_count": 14,
   "metadata": {},
   "outputs": [
    {
     "name": "stdout",
     "output_type": "stream",
     "text": [
      "IdGroup(study='2017_CSO', grouping='loaded preferred_structure gender_distinct ANB', ids=(3299, 3300, 3301, 3302, 3303, 3304, 3305, 3306, 3307, 3308), genders=('male', 'male', 'male', 'female', 'female', 'female', 'male', 'male', 'female', 'female'), risks=('nonsmoker super_preferred', 'nonsmoker preferred', 'nonsmoker residual', 'nonsmoker super_preferred', 'nonsmoker preferred', 'nonsmoker residual', 'smoker preferred', 'smoker residual', 'smoker preferred', 'smoker residual'))\n"
     ]
    }
   ],
   "source": [
    "print(getIdGroup(3299))"
   ]
  },
  {
   "cell_type": "markdown",
   "metadata": {},
   "source": [
    "Load mortality tables to tensor format."
   ]
  },
  {
   "cell_type": "code",
   "execution_count": 15,
   "metadata": {},
   "outputs": [
    {
     "name": "stdout",
     "output_type": "stream",
     "text": [
      "select.shape: (10, 78, 25)\n",
      "ultimate.shape: (10, 103)\n"
     ]
    }
   ],
   "source": [
    "ids = getIdGroup(3299).ids\n",
    "select = jnp.array([MortXML(id).Tables[0].Values.unstack().values for id in ids])\n",
    "ultimate = jnp.array([MortXML(id).Tables[1].Values.unstack().values for id in ids])\n",
    "print(f\"select.shape: {select.shape}\") # tableIds [3299, 3308], issue_ages [18, 95], durations [1, 25]\n",
    "print(f\"ultimate.shape: {ultimate.shape}\") # tableIds [3299, 3308], attained_ages [18, 120]"
   ]
  },
  {
   "cell_type": "markdown",
   "metadata": {},
   "source": [
    "This is the model points. What is the best way to represent model points? I don't like having them all as variables. I think that having them in a flax module actually makes sense just so they are available globally with autocomplete. Maybe another day."
   ]
  },
  {
   "cell_type": "code",
   "execution_count": 41,
   "metadata": {},
   "outputs": [],
   "source": [
    "mortality_table_index = jnp.array([0,1,2])\n",
    "issue_age = jnp.array([30, 40, 50])\n",
    "duration = jnp.array([0, 0, 0]) # new business\n",
    "face = jnp.array([1000*x for x in [100, 500, 250]])"
   ]
  },
  {
   "cell_type": "markdown",
   "metadata": {},
   "source": [
    "Traditional actuarial modeling techniques do calculations recursively. In contrast, we compute cashflows for all points in time simultaneously. This allows us to parallelize over the time dimension on the GPU. We an array of shape (timesteps, modelpoints) that represents the durations for each modelpoint at each point in time."
   ]
  },
  {
   "cell_type": "code",
   "execution_count": 42,
   "metadata": {},
   "outputs": [
    {
     "name": "stdout",
     "output_type": "stream",
     "text": [
      "duration: \n",
      " [0 0 0]\n",
      "duration projected: \n",
      " [[0 0 0]\n",
      " [1 1 1]\n",
      " [2 2 2]\n",
      " [3 3 3]\n",
      " [4 4 4]\n",
      " [5 5 5]\n",
      " [6 6 6]\n",
      " [7 7 7]\n",
      " [8 8 8]\n",
      " [9 9 9]]\n"
     ]
    }
   ],
   "source": [
    "print(f\"duration: \\n {duration}\")\n",
    "print(f\"duration projected: \\n {project_duration(duration, 10)}\")"
   ]
  },
  {
   "cell_type": "markdown",
   "metadata": {},
   "source": [
    "Get the cashflows."
   ]
  },
  {
   "cell_type": "code",
   "execution_count": 43,
   "metadata": {},
   "outputs": [
    {
     "data": {
      "text/plain": [
       "DeviceArray([[ 15.000001,  95.      , 185.      ],\n",
       "             [ 15.9976  , 174.96675 , 239.82239 ],\n",
       "             [ 20.99349 , 249.86502 , 336.9265  ],\n",
       "             [ 23.987522, 294.6933  , 406.25833 ],\n",
       "             [ 26.979483, 339.4461  , 487.71072 ],\n",
       "             [ 29.96911 , 389.09988 , 568.70844 ],\n",
       "             [ 32.95613 , 433.6575  , 624.3945  ],\n",
       "             [ 37.936962, 488.0628  , 689.5518  ],\n",
       "             [ 42.912357, 557.2394  , 798.5357  ],\n",
       "             [ 52.869232, 636.1317  , 943.3463  ]], dtype=float32)"
      ]
     },
     "execution_count": 43,
     "metadata": {},
     "output_type": "execute_result"
    }
   ],
   "source": [
    "timesteps = 10\n",
    "\n",
    "q = get_q_from_select_ultimate(\n",
    "  mortality_table_index,\n",
    "  issue_age,\n",
    "  project_duration(duration, timesteps), # when projecting, remains broadcastableration_projected,\n",
    "  select, \n",
    "  ultimate\n",
    ")\n",
    "\n",
    "npx = get_npx_from_q(q)\n",
    "\n",
    "face * npx * q"
   ]
  },
  {
   "cell_type": "markdown",
   "metadata": {},
   "source": [
    "Get the net premium."
   ]
  },
  {
   "cell_type": "code",
   "execution_count": 44,
   "metadata": {},
   "outputs": [
    {
     "data": {
      "text/plain": [
       "DeviceArray([ 28.778994, 350.5083  , 508.1781  ], dtype=float32)"
      ]
     },
     "execution_count": 44,
     "metadata": {},
     "output_type": "execute_result"
    }
   ],
   "source": [
    "discount_factor = 1/(1.02)\n",
    "discounts = discount_factor ** jnp.arange(timesteps)[:, None]\n",
    "discounts_lagged = discounts * discount_factor\n",
    "\n",
    "discounted_expected_claims = face * npx * q * discounts_lagged\n",
    "# net present value (NPV) of outgoing cashflows\n",
    "discounted_expected_claims_NPV_per_policy = jnp.sum(discounted_expected_claims, axis=0)\n",
    "net_premium_per_policy = discounted_expected_claims_NPV_per_policy / jnp.sum(npx * discounts, 0)\n",
    "net_premium_per_policy"
   ]
  }
 ],
 "metadata": {
  "kernelspec": {
   "display_name": "Python 3.8.13 64-bit",
   "language": "python",
   "name": "python3"
  },
  "language_info": {
   "codemirror_mode": {
    "name": "ipython",
    "version": 3
   },
   "file_extension": ".py",
   "mimetype": "text/x-python",
   "name": "python",
   "nbconvert_exporter": "python",
   "pygments_lexer": "ipython3",
   "version": "3.8.13"
  },
  "orig_nbformat": 4,
  "vscode": {
   "interpreter": {
    "hash": "949777d72b0d2535278d3dc13498b2535136f6dfe0678499012e853ee9abcab1"
   }
  }
 },
 "nbformat": 4,
 "nbformat_minor": 2
}
