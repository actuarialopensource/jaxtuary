{
 "cells": [
  {
   "cell_type": "markdown",
   "metadata": {},
   "source": [
    "# Net premium calculation from scratch in JAX\n",
    "\n",
    "Using plain JAX and a library for loading mortality tables, calculate the net premiums for some policies.\n"
   ]
  },
  {
   "cell_type": "code",
   "execution_count": 12,
   "metadata": {},
   "outputs": [],
   "source": [
    "import jax.numpy as jnp\n",
    "from pymort import getIdGroup, MortXML"
   ]
  },
  {
   "cell_type": "markdown",
   "metadata": {},
   "source": [
    "## Loading mortality tables"
   ]
  },
  {
   "cell_type": "markdown",
   "metadata": {},
   "source": [
    "For this we will be using the study `2017_CSO loaded preferred_structure gender_distinct ANB`. We can get the [pymort](https://github.com/actuarialopensource/pymort) object that represents this collection by referencing any of the [table ids](https://mort.soa.org/) belonging to the collection. "
   ]
  },
  {
   "cell_type": "code",
   "execution_count": 33,
   "metadata": {},
   "outputs": [
    {
     "name": "stdout",
     "output_type": "stream",
     "text": [
      "IdGroup(study='2017_CSO', grouping='loaded preferred_structure gender_distinct ANB', ids=(3299, 3300, 3301, 3302, 3303, 3304, 3305, 3306, 3307, 3308), genders=('male', 'male', 'male', 'female', 'female', 'female', 'male', 'male', 'female', 'female'), risks=('nonsmoker super_preferred', 'nonsmoker preferred', 'nonsmoker residual', 'nonsmoker super_preferred', 'nonsmoker preferred', 'nonsmoker residual', 'smoker preferred', 'smoker residual', 'smoker preferred', 'smoker residual'))\n"
     ]
    }
   ],
   "source": [
    "print(getIdGroup(3299))"
   ]
  },
  {
   "cell_type": "markdown",
   "metadata": {},
   "source": [
    "Load mortality tables to tensor format."
   ]
  },
  {
   "cell_type": "code",
   "execution_count": 32,
   "metadata": {},
   "outputs": [
    {
     "name": "stdout",
     "output_type": "stream",
     "text": [
      "select.shape: (10, 78, 25)\n",
      "ultimate.shape: (10, 103)\n"
     ]
    }
   ],
   "source": [
    "ids = getIdGroup(3299).ids\n",
    "select = jnp.array([MortXML(id).Tables[0].Values.unstack().values for id in ids])\n",
    "ultimate = jnp.array([MortXML(id).Tables[1].Values.unstack().values for id in ids])\n",
    "print(f\"select.shape: {select.shape}\") # tableIds [3299, 3308], issue_ages [18, 95], durations [1, 25]\n",
    "print(f\"ultimate.shape: {ultimate.shape}\") # tableIds [3299, 3308], attained_ages [18, 120]"
   ]
  },
  {
   "cell_type": "markdown",
   "metadata": {},
   "source": [
    "## Policyholder attributes"
   ]
  },
  {
   "cell_type": "code",
   "execution_count": 31,
   "metadata": {},
   "outputs": [],
   "source": [
    "mortality_table_index = jnp.array([0,1,2])\n",
    "issue_age = jnp.array([30, 40, 50])\n",
    "duration = jnp.array([0, 0, 0]) # new business\n",
    "face = jnp.array([1000*x for x in [100, 500, 250]])"
   ]
  },
  {
   "cell_type": "markdown",
   "metadata": {},
   "source": [
    "## The time dimension"
   ]
  },
  {
   "cell_type": "markdown",
   "metadata": {},
   "source": [
    "Traditional actuarial modeling techniques do calculations recursively. In contrast, we compute cashflows for all points in time simultaneously. This allows parallelization over the time dimension on the GPU. \n",
    "\n",
    "Take the initial `duration` vector of `shape (modelpoints, )` and turn it into a `duration_projected` matrix `shape (timesteps, modelpoints)` where each row represents a different timestep.\n",
    "\n",
    "To do this use broadcasting. Broadcasting is explained in detail [here](https://numpy.org/doc/stable/user/basics.broadcasting.html#general-broadcasting-rules), it discusses this exact problem."
   ]
  },
  {
   "cell_type": "code",
   "execution_count": 30,
   "metadata": {},
   "outputs": [
    {
     "name": "stdout",
     "output_type": "stream",
     "text": [
      "duration: \n",
      " [0 0 0]\n",
      "time_axis: \n",
      " [[0]\n",
      " [1]\n",
      " [2]\n",
      " [3]\n",
      " [4]]\n",
      "duration_projected: \n",
      " [[0 0 0]\n",
      " [1 1 1]\n",
      " [2 2 2]\n",
      " [3 3 3]\n",
      " [4 4 4]]\n"
     ]
    }
   ],
   "source": [
    "timesteps = 5 # The policy is a 5-year policy\n",
    "print(f\"duration: \\n {duration}\")\n",
    "time_axis = jnp.arange(timesteps)[:, jnp.newaxis]\n",
    "print(f\"time_axis: \\n {time_axis}\")\n",
    "duration_projected = time_axis + duration\n",
    "print(f\"duration_projected: \\n {duration_projected}\")"
   ]
  },
  {
   "cell_type": "markdown",
   "metadata": {},
   "source": [
    "## Decrements and claims\n",
    "\n",
    "Look up the mortality rates `q`. Calculate the probability of each policy surviving to the beginning of the duration `npx`. Indexing is such that `npx * q` calculates probabilities of policies alive at duration 0 dying during the timestep. We can multiply it by the payout on death (`face` amount of contract)."
   ]
  },
  {
   "cell_type": "code",
   "execution_count": 29,
   "metadata": {},
   "outputs": [
    {
     "name": "stdout",
     "output_type": "stream",
     "text": [
      "cashflows: \n",
      " [[ 15.000001  95.       185.      ]\n",
      " [ 15.9976   174.96675  239.82239 ]\n",
      " [ 20.99349  249.86502  336.9265  ]\n",
      " [ 23.987522 294.6933   406.25833 ]\n",
      " [ 26.979483 339.4461   487.71072 ]]\n"
     ]
    }
   ],
   "source": [
    "# Once duration passes select table, use ultimate table\n",
    "q = jnp.where(\n",
    "    duration_projected < select.shape[-1],\n",
    "    select[mortality_table_index, issue_age - 18, duration_projected],\n",
    "    ultimate[mortality_table_index, (issue_age - 18) + duration_projected],\n",
    ")\n",
    "\n",
    "npx = jnp.concatenate([jnp.ones((1, q.shape[1])), jnp.cumprod(1-q, axis=0)[:-1]])\n",
    "\n",
    "cashflows = face * npx * q\n",
    "\n",
    "print(\"cashflows: \\n\", cashflows)"
   ]
  },
  {
   "cell_type": "markdown",
   "metadata": {},
   "source": [
    "## Discount the cashflows by broadcasting\n",
    "\n",
    "Broadcasting is awesome!"
   ]
  },
  {
   "cell_type": "code",
   "execution_count": 28,
   "metadata": {},
   "outputs": [
    {
     "data": {
      "text/plain": [
       "DeviceArray([ 20.070742, 224.05084 , 322.29498 ], dtype=float32)"
      ]
     },
     "execution_count": 28,
     "metadata": {},
     "output_type": "execute_result"
    }
   ],
   "source": [
    "discount_factor = 1/(1.02)\n",
    "discounts = discount_factor ** jnp.arange(timesteps)[:, jnp.newaxis]\n",
    "discounts_lagged = discounts * discount_factor\n",
    "\n",
    "discounted_expected_claims = face * npx * q * discounts_lagged\n",
    "# net present value (NPV) of outgoing cashflows\n",
    "discounted_expected_claims_NPV_per_policy = jnp.sum(discounted_expected_claims, axis=0)\n",
    "net_premium_per_policy = discounted_expected_claims_NPV_per_policy / jnp.sum(npx * discounts, 0)\n",
    "net_premium_per_policy"
   ]
  }
 ],
 "metadata": {
  "kernelspec": {
   "display_name": "Python 3.8.13 64-bit",
   "language": "python",
   "name": "python3"
  },
  "language_info": {
   "codemirror_mode": {
    "name": "ipython",
    "version": 3
   },
   "file_extension": ".py",
   "mimetype": "text/x-python",
   "name": "python",
   "nbconvert_exporter": "python",
   "pygments_lexer": "ipython3",
   "version": "3.8.13"
  },
  "orig_nbformat": 4,
  "vscode": {
   "interpreter": {
    "hash": "949777d72b0d2535278d3dc13498b2535136f6dfe0678499012e853ee9abcab1"
   }
  }
 },
 "nbformat": 4,
 "nbformat_minor": 2
}
