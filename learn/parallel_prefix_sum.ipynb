{
 "cells": [
  {
   "cell_type": "markdown",
   "metadata": {},
   "source": [
    "# Prefix sum\n",
    "\n",
    "## Definition and relevance to actuarial calculations\n",
    "\n",
    "For a [binary associative operator](https://en.wikipedia.org/wiki/Associative_property) $\\oplus$ and a sequence of numbers $x_0,x_1,x_2,...$ the **prefix sum** is a sequence of numbers $y_0, y_1, y_2, ...$ where\n",
    "\n",
    "$$\n",
    "\\begin{align*}\n",
    "y_0 &= x_0 \\\\\n",
    "y_1 &= x_0 \\oplus x_1 \\\\\n",
    "y_2 &= x_0 \\oplus x_1 \\oplus x_2 \\\\\n",
    "...\n",
    "\\end{align*}\n",
    "$$\n",
    "\n",
    "An example of a prefix sum in actuarial science is that when our binary associative operator is multiplication and our sequence of numbers is survival probabilities we have the following - \n",
    "\n",
    "$$\n",
    "\\begin{align*}\n",
    "p_x &= p_x \\\\\n",
    "_2p_x &= p_x \\cdot p_{x+1} \\\\\n",
    "_3p_x &= p_x \\cdot p_{x+1} \\cdot p_{x+2} \\\\\n",
    "...\n",
    "\\end{align*}\n",
    "$$\n",
    "\n",
    "## Parallelism on the GPU\n",
    "\n",
    "It is not obvious that parallelism will help us in calculating prefix sums, but [apparently it does](http://courses.csail.mit.edu/18.337/2004/book/Lecture_03-Parallel_Prefix.pdf). \n",
    "\n"
   ]
  },
  {
   "cell_type": "markdown",
   "metadata": {},
   "source": [
    "Which operations happen in parallel and which don't?"
   ]
  },
  {
   "cell_type": "code",
   "execution_count": 5,
   "metadata": {},
   "outputs": [
    {
     "data": {
      "text/plain": [
       "DeviceArray([[0.9       , 0.9       ],\n",
       "             [0.71999997, 0.71999997]], dtype=float32)"
      ]
     },
     "execution_count": 5,
     "metadata": {},
     "output_type": "execute_result"
    }
   ],
   "source": [
    "import jax.numpy as jnp\n",
    "from jax.lax import associative_scan\n",
    "from jaxtyping import f\n",
    "from typing import Tuple\n",
    "\n",
    "def survivorship(p1: f[\"policies\"], p2: f[\"policies\"]) -> f[\"policies\"]:\n",
    "    return p1*p2\n",
    "\n",
    "q = jnp.array([[.1, .1], [.2, .2]])\n",
    "p = 1-q\n",
    "associative_scan(survivorship, p)\n"
   ]
  }
 ],
 "metadata": {
  "kernelspec": {
   "display_name": "Python 3.10.4 ('neural-actuarial')",
   "language": "python",
   "name": "python3"
  },
  "language_info": {
   "codemirror_mode": {
    "name": "ipython",
    "version": 3
   },
   "file_extension": ".py",
   "mimetype": "text/x-python",
   "name": "python",
   "nbconvert_exporter": "python",
   "pygments_lexer": "ipython3",
   "version": "3.10.4"
  },
  "orig_nbformat": 4,
  "vscode": {
   "interpreter": {
    "hash": "9ed3bff3b308b37b2f46d1f440742a36a9f67b4f8ecbedc7475a1189bd17a49e"
   }
  }
 },
 "nbformat": 4,
 "nbformat_minor": 2
}
