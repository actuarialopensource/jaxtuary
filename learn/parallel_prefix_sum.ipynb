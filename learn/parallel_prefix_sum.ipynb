{
 "cells": [
  {
   "cell_type": "markdown",
   "metadata": {},
   "source": [
    "# Prefix sum\n",
    "\n",
    "## Definition and relevance to actuarial calculations\n",
    "\n",
    "For a [binary associative operator](https://en.wikipedia.org/wiki/Associative_property) $\\oplus$ and a sequence of numbers $x_0,x_1,x_2,...$ the **prefix sum** is a sequence of numbers $y_0, y_1, y_2, ...$ where\n",
    "\n",
    "$$\n",
    "\\begin{align*}\n",
    "y_0 &= x_0 \\\\\n",
    "y_1 &= x_0 \\oplus x_1 \\\\\n",
    "y_2 &= x_0 \\oplus x_1 \\oplus x_2 \\\\\n",
    "...\n",
    "\\end{align*}\n",
    "$$\n",
    "\n",
    "Let $p_x$ be the probability that a person age $x$ survives to age $x+1$ and $_np_x$ be the probability that they survive to age $x+n$. An example of a prefix sum in actuarial science is the following.\n",
    "\n",
    "$$\n",
    "\\begin{align*}\n",
    "p_x &= p_x \\\\\n",
    "_2p_x &= p_x \\cdot p_{x+1} \\\\\n",
    "_3p_x &= p_x \\cdot p_{x+1} \\cdot p_{x+2} \\\\\n",
    "...\n",
    "\\end{align*}\n",
    "$$\n",
    "\n",
    "\n",
    "## Parallelism on the GPU\n",
    "\n",
    "[Prefix sums can be computed in parallel](http://courses.csail.mit.edu/18.337/2004/book/Lecture_03-Parallel_Prefix.pdf). JAX has a special method for this, [`jax.lax.associative_scan`](https://jax.readthedocs.io/en/latest/_autosummary/jax.lax.associative_scan.html#jax.lax.associative_scan). \n",
    "\n",
    "We have seen that survival probabilities are calculated with a cumulative product. [`jax.numpy.cumprod`](https://jax.readthedocs.io/en/latest/_autosummary/jax.numpy.cumprod.html) is the typical way to take the cumulative product and [uses the associative scan in its implementation](https://github.com/google/jax/blob/main/jax/_src/lax/control_flow/loops.py#L1950).\n",
    "\n",
    "JAX has a non-associative scan [`jax.lax.scan`](https://jax.readthedocs.io/en/latest/_autosummary/jax.lax.scan.html) which is useful for carrying state inside of a loop, but [cannot be parallelized](https://github.com/google/jax/discussions/10233).\n"
   ]
  },
  {
   "cell_type": "code",
   "execution_count": 1,
   "metadata": {},
   "outputs": [
    {
     "ename": "ModuleNotFoundError",
     "evalue": "No module named 'jaxlib'",
     "output_type": "error",
     "traceback": [
      "\u001b[0;31m---------------------------------------------------------------------------\u001b[0m",
      "\u001b[0;31mModuleNotFoundError\u001b[0m                       Traceback (most recent call last)",
      "\u001b[1;32m/workspaces/jaxtuary/learn/parallel_prefix_sum.ipynb Cell 2\u001b[0m in \u001b[0;36m<cell line: 1>\u001b[0;34m()\u001b[0m\n\u001b[0;32m----> <a href='vscode-notebook-cell://dev-container%2B2f55736572732f6d617474686577636173657265732f446f63756d656e74732f4a756c69612f6a61787475617279/workspaces/jaxtuary/learn/parallel_prefix_sum.ipynb#W1sdnNjb2RlLXJlbW90ZQ%3D%3D?line=0'>1</a>\u001b[0m \u001b[39mimport\u001b[39;00m \u001b[39mjax\u001b[39;00m\u001b[39m.\u001b[39;00m\u001b[39mnumpy\u001b[39;00m \u001b[39mas\u001b[39;00m \u001b[39mjnp\u001b[39;00m\n\u001b[1;32m      <a href='vscode-notebook-cell://dev-container%2B2f55736572732f6d617474686577636173657265732f446f63756d656e74732f4a756c69612f6a61787475617279/workspaces/jaxtuary/learn/parallel_prefix_sum.ipynb#W1sdnNjb2RlLXJlbW90ZQ%3D%3D?line=1'>2</a>\u001b[0m \u001b[39mfrom\u001b[39;00m \u001b[39mpymort\u001b[39;00m \u001b[39mimport\u001b[39;00m getIdGroup, MortXML\n\u001b[1;32m      <a href='vscode-notebook-cell://dev-container%2B2f55736572732f6d617474686577636173657265732f446f63756d656e74732f4a756c69612f6a61787475617279/workspaces/jaxtuary/learn/parallel_prefix_sum.ipynb#W1sdnNjb2RlLXJlbW90ZQ%3D%3D?line=3'>4</a>\u001b[0m ids \u001b[39m=\u001b[39m getIdGroup(\u001b[39m3299\u001b[39m)\u001b[39m.\u001b[39mids\n",
      "File \u001b[0;32m/usr/local/lib/python3.8/site-packages/jax/__init__.py:21\u001b[0m, in \u001b[0;36m<module>\u001b[0;34m\u001b[0m\n\u001b[1;32m     18\u001b[0m \u001b[39mdel\u001b[39;00m _os\n\u001b[1;32m     20\u001b[0m \u001b[39m# flake8: noqa: F401\u001b[39;00m\n\u001b[0;32m---> 21\u001b[0m \u001b[39mfrom\u001b[39;00m \u001b[39m.\u001b[39;00m\u001b[39mconfig\u001b[39;00m \u001b[39mimport\u001b[39;00m config\n\u001b[1;32m     22\u001b[0m \u001b[39mfrom\u001b[39;00m \u001b[39m.\u001b[39;00m\u001b[39mapi\u001b[39;00m \u001b[39mimport\u001b[39;00m (\n\u001b[1;32m     23\u001b[0m   ad,  \u001b[39m# TODO(phawkins): update users to avoid this.\u001b[39;00m\n\u001b[1;32m     24\u001b[0m   argnums_partial,  \u001b[39m# TODO(phawkins): update Haiku to not use this.\u001b[39;00m\n\u001b[0;32m   (...)\u001b[0m\n\u001b[1;32m     87\u001b[0m   xla_computation,\n\u001b[1;32m     88\u001b[0m )\n\u001b[1;32m     89\u001b[0m \u001b[39mfrom\u001b[39;00m \u001b[39m.\u001b[39;00m\u001b[39mexperimental\u001b[39;00m\u001b[39m.\u001b[39;00m\u001b[39mmaps\u001b[39;00m \u001b[39mimport\u001b[39;00m soft_pmap\n",
      "File \u001b[0;32m/usr/local/lib/python3.8/site-packages/jax/config.py:19\u001b[0m, in \u001b[0;36m<module>\u001b[0;34m\u001b[0m\n\u001b[1;32m     17\u001b[0m \u001b[39mimport\u001b[39;00m \u001b[39mthreading\u001b[39;00m\n\u001b[1;32m     18\u001b[0m \u001b[39mfrom\u001b[39;00m \u001b[39mtyping\u001b[39;00m \u001b[39mimport\u001b[39;00m Optional\n\u001b[0;32m---> 19\u001b[0m \u001b[39mfrom\u001b[39;00m \u001b[39mjax\u001b[39;00m \u001b[39mimport\u001b[39;00m lib\n\u001b[1;32m     21\u001b[0m \u001b[39mdef\u001b[39;00m \u001b[39mbool_env\u001b[39m(varname: \u001b[39mstr\u001b[39m, default: \u001b[39mbool\u001b[39m) \u001b[39m-\u001b[39m\u001b[39m>\u001b[39m \u001b[39mbool\u001b[39m:\n\u001b[1;32m     22\u001b[0m   \u001b[39m\"\"\"Read an environment variable and interpret it as a boolean.\u001b[39;00m\n\u001b[1;32m     23\u001b[0m \n\u001b[1;32m     24\u001b[0m \u001b[39m  True values are (case insensitive): 'y', 'yes', 't', 'true', 'on', and '1';\u001b[39;00m\n\u001b[0;32m   (...)\u001b[0m\n\u001b[1;32m     30\u001b[0m \u001b[39m  Raises: ValueError if the environment variable is anything else.\u001b[39;00m\n\u001b[1;32m     31\u001b[0m \u001b[39m  \"\"\"\u001b[39;00m\n",
      "File \u001b[0;32m/usr/local/lib/python3.8/site-packages/jax/lib/__init__.py:23\u001b[0m, in \u001b[0;36m<module>\u001b[0;34m\u001b[0m\n\u001b[1;32m      1\u001b[0m \u001b[39m# Copyright 2018 Google LLC\u001b[39;00m\n\u001b[1;32m      2\u001b[0m \u001b[39m#\u001b[39;00m\n\u001b[1;32m      3\u001b[0m \u001b[39m# Licensed under the Apache License, Version 2.0 (the \"License\");\u001b[39;00m\n\u001b[0;32m   (...)\u001b[0m\n\u001b[1;32m     15\u001b[0m \u001b[39m# This module is largely a wrapper around `jaxlib` that performs version\u001b[39;00m\n\u001b[1;32m     16\u001b[0m \u001b[39m# checking on import.\u001b[39;00m\n\u001b[1;32m     18\u001b[0m __all__ \u001b[39m=\u001b[39m [\n\u001b[1;32m     19\u001b[0m   \u001b[39m'\u001b[39m\u001b[39mcuda_prng\u001b[39m\u001b[39m'\u001b[39m, \u001b[39m'\u001b[39m\u001b[39mcusolver\u001b[39m\u001b[39m'\u001b[39m, \u001b[39m'\u001b[39m\u001b[39mrocsolver\u001b[39m\u001b[39m'\u001b[39m, \u001b[39m'\u001b[39m\u001b[39mjaxlib\u001b[39m\u001b[39m'\u001b[39m, \u001b[39m'\u001b[39m\u001b[39mlapack\u001b[39m\u001b[39m'\u001b[39m,\n\u001b[1;32m     20\u001b[0m   \u001b[39m'\u001b[39m\u001b[39mpocketfft\u001b[39m\u001b[39m'\u001b[39m, \u001b[39m'\u001b[39m\u001b[39mpytree\u001b[39m\u001b[39m'\u001b[39m, \u001b[39m'\u001b[39m\u001b[39mtpu_client\u001b[39m\u001b[39m'\u001b[39m, \u001b[39m'\u001b[39m\u001b[39mversion\u001b[39m\u001b[39m'\u001b[39m, \u001b[39m'\u001b[39m\u001b[39mxla_client\u001b[39m\u001b[39m'\u001b[39m\n\u001b[1;32m     21\u001b[0m ]\n\u001b[0;32m---> 23\u001b[0m \u001b[39mimport\u001b[39;00m \u001b[39mjaxlib\u001b[39;00m\n\u001b[1;32m     25\u001b[0m \u001b[39m# Must be kept in sync with the jaxlib version in build/test-requirements.txt\u001b[39;00m\n\u001b[1;32m     26\u001b[0m _minimum_jaxlib_version \u001b[39m=\u001b[39m (\u001b[39m0\u001b[39m, \u001b[39m1\u001b[39m, \u001b[39m60\u001b[39m)\n",
      "\u001b[0;31mModuleNotFoundError\u001b[0m: No module named 'jaxlib'"
     ]
    }
   ],
   "source": [
    "import jax.numpy as jnp\n",
    "from pymort import getIdGroup, MortXML\n",
    "\n",
    "ids = getIdGroup(3299).ids\n",
    "select = jnp.array([MortXML(id).Tables[0].Values.unstack().values for id in ids])\n",
    "ultimate = jnp.array([MortXML(id).Tables[1].Values.unstack().values for id in ids])\n"
   ]
  }
 ],
 "metadata": {
  "kernelspec": {
   "display_name": "Python 3 (ipykernel)",
   "language": "python",
   "name": "python3"
  },
  "language_info": {
   "codemirror_mode": {
    "name": "ipython",
    "version": 3
   },
   "file_extension": ".py",
   "mimetype": "text/x-python",
   "name": "python",
   "nbconvert_exporter": "python",
   "pygments_lexer": "ipython3",
   "version": "3.8.13"
  },
  "orig_nbformat": 4,
  "vscode": {
   "interpreter": {
    "hash": "949777d72b0d2535278d3dc13498b2535136f6dfe0678499012e853ee9abcab1"
   }
  }
 },
 "nbformat": 4,
 "nbformat_minor": 2
}
